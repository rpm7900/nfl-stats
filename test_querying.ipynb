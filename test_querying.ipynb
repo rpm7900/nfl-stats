{
 "cells": [
  {
   "cell_type": "code",
   "execution_count": 1,
   "metadata": {},
   "outputs": [],
   "source": [
    "import sqlalchemy\n",
    "import numpy as np\n",
    "import psycopg2\n",
    "from sqlalchemy.ext.automap import automap_base\n",
    "from sqlalchemy import create_engine , func\n",
    "from sqlalchemy.orm import Session"
   ]
  },
  {
   "cell_type": "code",
   "execution_count": 2,
   "metadata": {},
   "outputs": [],
   "source": [
    "engine = create_engine('postgresql+psycopg2://postgres: @localhost/nfl_database')"
   ]
  },
  {
   "cell_type": "code",
   "execution_count": 3,
   "metadata": {},
   "outputs": [],
   "source": [
    "# conn_string = \"host='localhost' dbname='nfl_database' user='postgres' password='Kickingass2019'\"\n",
    "# conn = psycopg2.connect(conn_string)"
   ]
  },
  {
   "cell_type": "code",
   "execution_count": 4,
   "metadata": {},
   "outputs": [],
   "source": [
    "# reflect an existing database into a new model\n",
    "Base = automap_base()"
   ]
  },
  {
   "cell_type": "code",
   "execution_count": 5,
   "metadata": {},
   "outputs": [
    {
     "data": {
      "text/plain": [
       "['player_stats', 'player_income', 'area_income', 'stadium_info']"
      ]
     },
     "execution_count": 5,
     "metadata": {},
     "output_type": "execute_result"
    }
   ],
   "source": [
    "# reflect the tables\n",
    "Base.prepare(engine, reflect=True)\n",
    "Base.classes.keys()"
   ]
  },
  {
   "cell_type": "code",
   "execution_count": 6,
   "metadata": {},
   "outputs": [],
   "source": [
    "# Create our session (link) from Python to the DB\n",
    "session = Session(engine)"
   ]
  },
  {
   "cell_type": "code",
   "execution_count": 7,
   "metadata": {},
   "outputs": [],
   "source": [
    "stadium = Base.classes.stadium_info\n",
    "stats = Base.classes.player_stats\n",
    "player_income = Base.classes.player_income\n",
    "area_income = Base.classes.area_income "
   ]
  },
  {
   "cell_type": "code",
   "execution_count": 8,
   "metadata": {},
   "outputs": [
    {
     "data": {
      "text/plain": [
       "[{'team': 'Philadelphia Eagles', 'lat': 39.90147, 'long': -75.16729},\n",
       " {'team': 'San Diego Chargers', 'lat': 32.78322, 'long': -117.11976},\n",
       " {'team': 'Carolina Panthers', 'lat': 35.22584, 'long': -80.85331},\n",
       " {'team': 'Jacksonville Jaguars', 'lat': 30.32387, 'long': -81.6369},\n",
       " {'team': 'Chicago Bers', 'lat': 41.8625, 'long': -87.61677},\n",
       " {'team': 'New England Patriots', 'lat': 42.09188, 'long': -71.26491},\n",
       " {'team': 'Buffalo Bills', 'lat': 42.77379, 'long': -78.78679},\n",
       " {'team': 'Tampa Bay Buccaneers', 'lat': 27.97884, 'long': -82.50349},\n",
       " {'team': 'Seattle Seahawks', 'lat': 47.59476, 'long': -122.33165},\n",
       " {'team': 'Green Bay Packers', 'lat': 44.50117, 'long': -88.06223},\n",
       " {'team': 'Minnesota Vikings', 'lat': 44.97401, 'long': -93.25848},\n",
       " {'team': 'Atlanta Falcons', 'lat': 33.75735, 'long': -84.40121},\n",
       " {'team': 'Cincinnati Bengals', 'lat': 39.09532, 'long': -84.51623},\n",
       " {'team': 'New York Giants/ NewYork Jets', 'lat': 40.81361, 'long': -74.07444},\n",
       " {'team': 'Miami Dolphins', 'lat': 25.95801, 'long': -80.23889},\n",
       " {'team': 'Indianapolis Colts', 'lat': 39.76, 'long': -86.16361},\n",
       " {'team': 'Houston Texans', 'lat': 29.68493, 'long': -95.41092},\n",
       " {'team': 'St. Louis Rams', 'lat': 38.63278, 'long': -90.18854},\n",
       " {'team': 'Baltimore Ravens', 'lat': 39.2779, 'long': -76.6227},\n",
       " {'team': 'Detroit Lions', 'lat': 42.34005, 'long': -83.04564},\n",
       " {'team': 'Arizona Cardinals', 'lat': 33.52713, 'long': -112.25876},\n",
       " {'team': 'Cleveland Browns', 'lat': 41.50618, 'long': -81.69962},\n",
       " {'team': 'Oakland Raiders', 'lat': 37.75233, 'long': -122.1999},\n",
       " {'team': 'San Francisco 49ers', 'lat': 37.71399, 'long': -122.38673},\n",
       " {'team': 'Tennessee Titans', 'lat': 36.16654, 'long': -86.77252},\n",
       " {'team': 'Kansas City Chiefs', 'lat': 39.04895, 'long': -94.48388},\n",
       " {'team': 'Pittsburgh Steelers', 'lat': 40.44673, 'long': -80.01574},\n",
       " {'team': 'Washington Redskins', 'lat': 38.90778, 'long': -76.86444},\n",
       " {'team': 'Denver Broncos', 'lat': 39.74396, 'long': -105.02028},\n",
       " {'team': 'New Orleans Saints', 'lat': 29.95116, 'long': -90.08128},\n",
       " {'team': 'Dallas Cowboys', 'lat': 32.74778, 'long': -97.09277}]"
      ]
     },
     "execution_count": 8,
     "metadata": {},
     "output_type": "execute_result"
    }
   ],
   "source": [
    "# data points for map \n",
    "stadium_results = session.query(stadium.team,stadium.lat,stadium.long).all()\n",
    "stadium_records = [dict(zip(row.keys(), row)) for row in stadium_results]\n",
    "stadium_records"
   ]
  },
  {
   "cell_type": "code",
   "execution_count": 9,
   "metadata": {},
   "outputs": [
    {
     "data": {
      "text/plain": [
       "[{'position': 'DE', 'avg_income': Decimal('1689123.90')},\n",
       " {'position': 'GT', 'avg_income': Decimal('1050000.00')},\n",
       " {'position': None, 'avg_income': Decimal('437647.00')},\n",
       " {'position': 'LSTE', 'avg_income': Decimal('1000000.00')},\n",
       " {'position': 'CB', 'avg_income': Decimal('1331829.42')},\n",
       " {'position': 'SS', 'avg_income': Decimal('718664.42')},\n",
       " {'position': 'P', 'avg_income': Decimal('1400722.91')},\n",
       " {'position': 'ILB', 'avg_income': Decimal('1008374.36')},\n",
       " {'position': 'DT', 'avg_income': Decimal('1681375.06')},\n",
       " {'position': 'RB', 'avg_income': Decimal('1055344.83')},\n",
       " {'position': 'LB-DE', 'avg_income': Decimal('4000000.00')},\n",
       " {'position': 'QB', 'avg_income': Decimal('3619762.96')},\n",
       " {'position': 'C', 'avg_income': Decimal('1035338.47')},\n",
       " {'position': 'FB', 'avg_income': Decimal('808331.11')},\n",
       " {'position': 'LS', 'avg_income': Decimal('572647.10')},\n",
       " {'position': 'DB', 'avg_income': Decimal('2345775.49')},\n",
       " {'position': 'OLB', 'avg_income': Decimal('984402.85')},\n",
       " {'position': 'LB', 'avg_income': Decimal('1410121.16')},\n",
       " {'position': 'WR/RB', 'avg_income': Decimal('625000.00')},\n",
       " {'position': 'DL', 'avg_income': Decimal('1835397.65')},\n",
       " {'position': 'K', 'avg_income': Decimal('1102177.81')},\n",
       " {'position': 'OT', 'avg_income': Decimal('1238938.94')},\n",
       " {'position': 'OG', 'avg_income': Decimal('1118471.88')},\n",
       " {'position': 'HB', 'avg_income': Decimal('82059.00')},\n",
       " {'position': 'G', 'avg_income': Decimal('2068103.76')},\n",
       " {'position': 'T', 'avg_income': Decimal('2453042.29')},\n",
       " {'position': 'WR', 'avg_income': Decimal('1399398.37')},\n",
       " {'position': 'OL', 'avg_income': Decimal('2126004.96')},\n",
       " {'position': 'TE', 'avg_income': Decimal('1323268.55')},\n",
       " {'position': 'DE-C', 'avg_income': Decimal('900000.00')},\n",
       " {'position': 'S', 'avg_income': Decimal('773459.06')},\n",
       " {'position': 'FS', 'avg_income': Decimal('1142992.91')},\n",
       " {'position': 'NT', 'avg_income': Decimal('583824.00')}]"
      ]
     },
     "execution_count": 9,
     "metadata": {},
     "output_type": "execute_result"
    }
   ],
   "source": [
    "# data points for bar \n",
    "player_income_results = session.query(player_income.position,func.round(func.avg(player_income.cap_hit),2).label('avg_income')).group_by(player_income.position).all()\n",
    "player_income_records = [dict(zip(row.keys(), row)) for row in player_income_results]\n",
    "player_income_records"
   ]
  },
  {
   "cell_type": "code",
   "execution_count": 10,
   "metadata": {},
   "outputs": [
    {
     "data": {
      "text/plain": [
       "[{'team': 'DEN', 'avg_income': Decimal('1817936.28')},\n",
       " {'team': 'CHI', 'avg_income': Decimal('1462107.42')},\n",
       " {'team': 'IND', 'avg_income': Decimal('981508.49')},\n",
       " {'team': 'HOU', 'avg_income': Decimal('1284251.63')},\n",
       " {'team': 'NYJ', 'avg_income': Decimal('1350735.35')},\n",
       " {'team': 'LAR', 'avg_income': Decimal('1604034.20')},\n",
       " {'team': 'SFO', 'avg_income': Decimal('1082644.72')},\n",
       " {'team': 'LAC', 'avg_income': Decimal('1397108.53')},\n",
       " {'team': 'CLE', 'avg_income': Decimal('1047613.10')},\n",
       " {'team': 'PIT', 'avg_income': Decimal('1623710.61')},\n",
       " {'team': 'ATL', 'avg_income': Decimal('1889180.26')},\n",
       " {'team': 'BAL', 'avg_income': Decimal('1194403.98')},\n",
       " {'team': 'DAL', 'avg_income': Decimal('1414430.59')},\n",
       " {'team': 'GNB', 'avg_income': Decimal('1413450.87')},\n",
       " {'team': '3TM', 'avg_income': Decimal('434019.33')},\n",
       " {'team': 'TEN', 'avg_income': Decimal('1662852.23')},\n",
       " {'team': 'BUF', 'avg_income': Decimal('1476411.84')},\n",
       " {'team': 'ARI', 'avg_income': Decimal('1711802.81')},\n",
       " {'team': 'WAS', 'avg_income': Decimal('1716097.17')},\n",
       " {'team': 'OAK', 'avg_income': Decimal('1450399.33')},\n",
       " {'team': 'NYG', 'avg_income': Decimal('1668821.72')},\n",
       " {'team': 'NWE', 'avg_income': Decimal('1382396.76')},\n",
       " {'team': 'TAM', 'avg_income': Decimal('1578890.10')},\n",
       " {'team': 'CIN', 'avg_income': Decimal('1798033.14')},\n",
       " {'team': 'MIN', 'avg_income': Decimal('1659558.05')},\n",
       " {'team': 'NOR', 'avg_income': Decimal('1343675.27')},\n",
       " {'team': 'JAX', 'avg_income': Decimal('1871216.12')},\n",
       " {'team': 'CAR', 'avg_income': Decimal('1532217.09')},\n",
       " {'team': 'PHI', 'avg_income': Decimal('1640182.37')},\n",
       " {'team': 'SEA', 'avg_income': Decimal('1772796.06')},\n",
       " {'team': 'KAN', 'avg_income': Decimal('1693990.42')},\n",
       " {'team': 'MIA', 'avg_income': Decimal('1404374.25')},\n",
       " {'team': '2TM', 'avg_income': Decimal('1059402.02')},\n",
       " {'team': 'DET', 'avg_income': Decimal('1389559.62')}]"
      ]
     },
     "execution_count": 10,
     "metadata": {},
     "output_type": "execute_result"
    }
   ],
   "source": [
    "team_income_results = session.query(player_income.team,func.round(func.avg(player_income.cap_hit),2).label('avg_income')).group_by(player_income.team).all()\n",
    "team_income_records = [dict(zip(row.keys(), row)) for row in team_income_results]\n",
    "team_income_records"
   ]
  },
  {
   "cell_type": "code",
   "execution_count": null,
   "metadata": {},
   "outputs": [],
   "source": []
  },
  {
   "cell_type": "code",
   "execution_count": null,
   "metadata": {},
   "outputs": [],
   "source": []
  }
 ],
 "metadata": {
  "kernelspec": {
   "display_name": "Python 3",
   "language": "python",
   "name": "python3"
  },
  "language_info": {
   "codemirror_mode": {
    "name": "ipython",
    "version": 3
   },
   "file_extension": ".py",
   "mimetype": "text/x-python",
   "name": "python",
   "nbconvert_exporter": "python",
   "pygments_lexer": "ipython3",
   "version": "3.7.4"
  }
 },
 "nbformat": 4,
 "nbformat_minor": 2
}
